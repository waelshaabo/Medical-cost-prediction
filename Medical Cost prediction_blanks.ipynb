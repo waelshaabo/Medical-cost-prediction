{
 "cells": [
  {
   "cell_type": "markdown",
   "metadata": {
    "colab_type": "text",
    "id": "SKzBo_NmCSMR"
   },
   "source": [
    "# Data Science Lifecycle\n",
    "---\n",
    "## Case Study: Insurance Medical Cost Prediction\n",
    "\n",
    "**Objective:**\n",
    "\n",
    "In this exercise, you will explore a dataset of insurance data detailed below. We will build a model to predict the cost of treatment for individuals based on their age, sex, bmi and other information.\n",
    "\n",
    "\n",
    "## Dataset Description\n",
    "\n",
    "\n",
    "*   **age**: age of primary beneficiary\n",
    "*   **sex**: insurance contractor gender, female, male\n",
    "*   **bmi**: Body mass index, providing an understanding of body, weights that are relatively high or low relative to height,\n",
    "objective index of body weight (kg / m ^ 2) using the ratio of height to weight, ideally 18.5 to 24.9\n",
    "*   **children**: Number of children covered by health insurance / Number of dependents\n",
    "*   **smoker**: Smoking\n",
    "*   **region**: the beneficiary's residential area in the US, northeast, southeast, southwest, northwest.\n",
    "*   **charges**: Individual medical costs billed by health insurance"
   ]
  },
  {
   "cell_type": "markdown",
   "metadata": {
    "colab_type": "text",
    "id": "KwwvN1RPJuBh"
   },
   "source": [
    "## 1. Data Loading"
   ]
  },
  {
   "cell_type": "markdown",
   "metadata": {
    "colab_type": "text",
    "id": "GfyJQMOnE_48"
   },
   "source": [
    "#### Import necessary python modules\n",
    "\n",
    "We will need the following libraries:\n",
    " - Numpy — for scientific computing (e.g., linear algebra (vectors & matrices)).\n",
    " - Pandas — providing high-performance, easy-to-use data reading, manipulation, and analysis.\n",
    " - Matplotlib — plotting & visualization.\n",
    " - scikit-learn — a tool for data mining and machine learning models.\n",
    " "
   ]
  },
  {
   "cell_type": "code",
   "execution_count": null,
   "metadata": {
    "colab": {},
    "colab_type": "code",
    "id": "u9nnDKPjAfGq"
   },
   "outputs": [],
   "source": [
    "import numpy as np\n",
    "import pandas as pd\n",
    "import matplotlib.pyplot as plt\n",
    "\n",
    "from sklearn.model_selection import train_test_split\n",
    "from sklearn.linear_model import LinearRegression"
   ]
  },
  {
   "cell_type": "markdown",
   "metadata": {
    "colab_type": "text",
    "id": "Az3L-5-6HNSF"
   },
   "source": [
    "#### Download the data\n",
    "\n",
    "Follow the instructions to help get your data setup & accessible by colab."
   ]
  },
  {
   "cell_type": "markdown",
   "metadata": {
    "colab_type": "text",
    "id": "MTKjGKz7Jkgu"
   },
   "source": [
    "#### Path To Data:\n",
    "\n",
    "We need to sepcify the path to our dataset on Google Drive.\n",
    "\n",
    "1. Make sure to add/upload the dataset to your Google Drive\n",
    "\n",
    "2. Navigate to the drive file from colab's side bar by mounting the following command\n",
    "```python\n",
    "from google.colab import drive\n",
    "drive.mount('/content/drive')\n",
    "```\n",
    "\n",
    "3. Find the path to the dataset file/folder\n",
    "\n",
    "4. You can right-click on the file/folder and click copy path\n"
   ]
  },
  {
   "cell_type": "code",
   "execution_count": null,
   "metadata": {
    "colab": {},
    "colab_type": "code",
    "id": "rlruZVRqHOlu"
   },
   "outputs": [],
   "source": [
    "from google.colab import drive\n",
    "drive.mount('/content/drive')"
   ]
  },
  {
   "cell_type": "code",
   "execution_count": null,
   "metadata": {
    "colab": {},
    "colab_type": "code",
    "id": "tlR8tOOxJoEi"
   },
   "outputs": [],
   "source": [
    "Path_to_data = '/content/drive/My Drive/insurance.csv'"
   ]
  },
  {
   "cell_type": "markdown",
   "metadata": {
    "colab_type": "text",
    "id": "4LEivAvUHIE3"
   },
   "source": [
    "#### Read & visualize data\n",
    "Data now is stored on disk in a csv (Comma Separated Values) file. To load the data to our code, we use **pandas** module, more specifically, the **read_csv** function."
   ]
  },
  {
   "cell_type": "code",
   "execution_count": null,
   "metadata": {
    "colab": {},
    "colab_type": "code",
    "id": "_hep8239AzVU"
   },
   "outputs": [],
   "source": [
    "# read CSV file in Pandas\n",
    "data = pd.______\n",
    "\n",
    "# display first 10 rows\n",
    "data.______"
   ]
  },
  {
   "cell_type": "markdown",
   "metadata": {
    "colab_type": "text",
    "id": "qgIxvmAKhiqe"
   },
   "source": [
    "## 2. Exploratory Data Analysis\n",
    "\n",
    "Let's dig deeper & understand our data"
   ]
  },
  {
   "cell_type": "markdown",
   "metadata": {
    "colab_type": "text",
    "id": "LbXDTkiQhzwq"
   },
   "source": [
    "**Task:** how many rows & columns in our dataset"
   ]
  },
  {
   "cell_type": "code",
   "execution_count": null,
   "metadata": {
    "colab": {},
    "colab_type": "code",
    "id": "nUf0K_SMh1og"
   },
   "outputs": [],
   "source": [
    "# get the number of rows and columns\n",
    "rows = data._____\n",
    "columns = data._____\n",
    "\n",
    "print('There are {} rows and {} columns.'.format(rows,columns))"
   ]
  },
  {
   "cell_type": "markdown",
   "metadata": {
    "colab_type": "text",
    "id": "rPqsS9S2B2M4"
   },
   "source": [
    "Using the function **info()**, we can check:\n",
    " - data types (int, float, or object (e.g., string))\n",
    " - missing values\n",
    " - memory usage\n",
    " - number of rows and columns"
   ]
  },
  {
   "cell_type": "code",
   "execution_count": null,
   "metadata": {
    "colab": {},
    "colab_type": "code",
    "id": "exWsHvXSA7nz"
   },
   "outputs": [],
   "source": [
    "data.info()"
   ]
  },
  {
   "cell_type": "markdown",
   "metadata": {
    "colab_type": "text",
    "id": "Kt2KsZa2B63T"
   },
   "source": [
    "Using the function **describe()**, we can check the mean, standard deviation, maximum, and minimum of each numerical feature (column)"
   ]
  },
  {
   "cell_type": "code",
   "execution_count": null,
   "metadata": {
    "colab": {},
    "colab_type": "code",
    "id": "pifR8QwkA-DW"
   },
   "outputs": [],
   "source": [
    "data.describe()"
   ]
  },
  {
   "cell_type": "markdown",
   "metadata": {
    "colab_type": "text",
    "id": "cp4rE9yyjkua"
   },
   "source": [
    "#### Distribution of charges\n",
    "\n",
    "First, let's look at the distribution of charges. This will help us to know how much patients spend on treatment on average."
   ]
  },
  {
   "cell_type": "code",
   "execution_count": null,
   "metadata": {
    "colab": {},
    "colab_type": "code",
    "id": "A9VxLmCMjhtZ"
   },
   "outputs": [],
   "source": [
    "# plot the histogram of the charges\n",
    "data[\"charges\"]._______\n",
    "plt.title(\"Distribution of charges\")\n",
    "plt.xlabel(\"Charges\")\n",
    "plt.ylabel(\"Frequency\")\n",
    "plt.show()"
   ]
  },
  {
   "cell_type": "markdown",
   "metadata": {
    "colab_type": "text",
    "id": "-C6DoqLJkZaJ"
   },
   "source": [
    "#### Correlation between smoking and cost of treatment\n",
    "\n",
    "Let's see if smokers spend more or less on treatment than non-smokers!\n",
    "\n",
    "First, let's see how many smokers vs non-smokers we have."
   ]
  },
  {
   "cell_type": "code",
   "execution_count": null,
   "metadata": {
    "colab": {},
    "colab_type": "code",
    "id": "2bYxq0B4m4eg"
   },
   "outputs": [],
   "source": [
    "# select smokers \n",
    "smokers = _______\n",
    "\n",
    "# select non smokers\n",
    "non_smokers = _______\n",
    "\n",
    "print('There are {} smokers and {} non-smokers.'.format(smokers.shape[0], non_smokers.shape[0]))"
   ]
  },
  {
   "cell_type": "markdown",
   "metadata": {
    "colab_type": "text",
    "id": "0V4oPfA3nMqt"
   },
   "source": [
    "Now let's plot the charges for both."
   ]
  },
  {
   "cell_type": "code",
   "execution_count": null,
   "metadata": {
    "colab": {},
    "colab_type": "code",
    "id": "uwn0w9SKj9AZ"
   },
   "outputs": [],
   "source": [
    "# create the figure\n",
    "fig = plt.figure(figsize=(12,5))\n",
    "\n",
    "# add first sub plot for smokers\n",
    "ax = fig.add_subplot(121)\n",
    "# draw distribution of charges for smokers\n",
    "ax.________\n",
    "# set sub plot title\n",
    "ax.set_title('Distribution of charges for smokers')\n",
    "\n",
    "# add second sub plot for non smokers\n",
    "ax = fig.add_subplot(122)\n",
    "# draw distribution of charges for non-smokers\n",
    "ax._______\n",
    "# set sub plot title\n",
    "ax.set_title('Distribution of charges for non-smokers')"
   ]
  },
  {
   "cell_type": "markdown",
   "metadata": {
    "colab_type": "text",
    "id": "9h3TXsFXVoKy"
   },
   "source": [
    "Smoking patients spend more on treatment."
   ]
  },
  {
   "cell_type": "markdown",
   "metadata": {
    "colab_type": "text",
    "id": "z764ssFHV7KM"
   },
   "source": [
    "#### Correlation between age and cost of treatment\n",
    "\n",
    "First, let's look at the distribution of age in our dataset, and then look at how age affects the cost of treatment."
   ]
  },
  {
   "cell_type": "code",
   "execution_count": null,
   "metadata": {
    "colab": {},
    "colab_type": "code",
    "id": "G6Z5JkrLlEbV"
   },
   "outputs": [],
   "source": [
    "# plot histogram for age distribution\n",
    "plt._______\n",
    "plt.title(\"Age distribution\")\n",
    "plt.xlabel(\"Age\")\n",
    "plt.ylabel(\"Frequency\")\n",
    "plt.show()"
   ]
  },
  {
   "cell_type": "markdown",
   "metadata": {
    "colab_type": "text",
    "id": "Y57UaJL_Wyyr"
   },
   "source": [
    "Let's plot the correlation between age and cost of treatment"
   ]
  },
  {
   "cell_type": "code",
   "execution_count": null,
   "metadata": {
    "colab": {},
    "colab_type": "code",
    "id": "sGC1lp-yWaWz"
   },
   "outputs": [],
   "source": [
    "# draw a scatter plot to show correlation between age and charges\n",
    "plt._______\n",
    "plt.title(\"Cost of treatment for different ages\")\n",
    "plt.xlabel(\"Age\")\n",
    "plt.ylabel(\"Charges\")\n",
    "plt.show()"
   ]
  },
  {
   "cell_type": "markdown",
   "metadata": {
    "colab_type": "text",
    "id": "5BvsdKyFcf2X"
   },
   "source": [
    "Let's check if smoking also affects this curve.\n",
    "\n",
    "**Task**: show a scatter plot with the correlation between age and cost of treatment while showing smokers in red and non-smokers in blue"
   ]
  },
  {
   "cell_type": "code",
   "execution_count": null,
   "metadata": {
    "colab": {},
    "colab_type": "code",
    "id": "VEcAVCLrcMEF"
   },
   "outputs": [],
   "source": [
    "plt.scatter(smokers[\"age\"], smokers[\"charges\"], color='r')\n",
    "plt.scatter(non_smokers[\"age\"], non_smokers[\"charges\"], color='b')\n",
    "plt.title(\"Cost of treatment for different ages\")\n",
    "plt.xlabel(\"Age\")\n",
    "plt.ylabel(\"Charges\")\n",
    "plt.show()"
   ]
  },
  {
   "cell_type": "markdown",
   "metadata": {
    "colab_type": "text",
    "id": "NYL_dQSKgEER"
   },
   "source": [
    "#### Correlation between BMI and cost of treatment\n",
    "\n",
    "# Body Mass Index\n",
    "\n",
    "![alt text](https://4.bp.blogspot.com/-nBF9Z1tFGhI/W3MqbdD0j7I/AAAAAAAAAIs/UdyXTIxsBT8Pl8usABxEK_Fusj5S0SnBQCLcBGAs/s1600/HOW%2BTO%2BCALCULATE%2BBODY%2BMASS%2BINDEX%2BBMI.jpg)\n",
    "\n",
    "# BMI Chart\n",
    "\n",
    "![BMI char](https://images.squarespace-cdn.com/content/v1/56fae4be1d07c0c393d8faa5/1551103826935-HCXS8U78500C06GQ1PLJ/ke17ZwdGBToddI8pDm48kNMeyc_nGAbaGjp3EBJ2o08UqsxRUqqbr1mOJYKfIPR7LoDQ9mXPOjoJoqy81S2I8N_N4V1vUb5AoIIIbLZhVYxCRW4BPu10St3TBAUQYVKckzCNDuUMr1wTvf7-fqd2hrX5O2-_PoO3UJ2jNU1VzJbe6G9-F0r9BTATNUu-NBMy/BMI+Chart.jpg)\n",
    "\n",
    "First, let's look at the distribution of BMI in our dataset, and then look at how it affects the cost of treatment."
   ]
  },
  {
   "cell_type": "code",
   "execution_count": null,
   "metadata": {
    "colab": {},
    "colab_type": "code",
    "id": "h9EfbSkKYIlR"
   },
   "outputs": [],
   "source": [
    "# draw a histogram to show the distribution of BMI\n",
    "data[\"bmi\"]._____\n",
    "plt.title(\"BMI distribution\")\n",
    "plt.xlabel(\"BMI\")\n",
    "plt.ylabel(\"Frequency\")\n",
    "plt.show()"
   ]
  },
  {
   "cell_type": "markdown",
   "metadata": {
    "colab_type": "text",
    "id": "j-_7LOLyDrzw"
   },
   "source": [
    "According to the chart above, obesity starts at BMI = 30. Let's investigate the impact of BMI on cost of treatment. "
   ]
  },
  {
   "cell_type": "code",
   "execution_count": null,
   "metadata": {
    "colab": {},
    "colab_type": "code",
    "id": "q-lFGDOakFUT"
   },
   "outputs": [],
   "source": [
    "# select obese people\n",
    "obese = _____\n",
    "# select overweight people\n",
    "overweight = _____\n",
    "# select healthy people \n",
    "healthy = _____\n",
    "\n",
    "print('There are {} obese, {} overweight and {} healthy individuals.'.format(obese.shape[0], overweight.shape[0], healthy.shape[0]))"
   ]
  },
  {
   "cell_type": "markdown",
   "metadata": {
    "colab_type": "text",
    "id": "vVLLEIcXEJsb"
   },
   "source": [
    "To compare, let's plot the distribution of charges for all 3 groups (obese, overweight and healthy) in 1 plot, while showing `obese` data in red, `overweight` data in yellow and `healthy` data in green."
   ]
  },
  {
   "cell_type": "code",
   "execution_count": null,
   "metadata": {
    "colab": {},
    "colab_type": "code",
    "id": "DXV1VtltgJFm"
   },
   "outputs": [],
   "source": [
    "plt._____\n",
    "plt._____\n",
    "plt._____\n",
    "plt.title(\"Charges distribution\")\n",
    "plt.xlabel(\"Charges\")\n",
    "plt.ylabel(\"Frequency\")\n",
    "plt.show()"
   ]
  },
  {
   "cell_type": "markdown",
   "metadata": {
    "colab_type": "text",
    "id": "DtB8jDMZnLcT"
   },
   "source": [
    "Patients with BMI above 30 spend more on treatment!"
   ]
  },
  {
   "cell_type": "markdown",
   "metadata": {
    "colab_type": "text",
    "id": "g3X3fDBXnX16"
   },
   "source": [
    "## 3. Data Preprocessing\n",
    "\"Garbage in, garbage out\". \n",
    "\n",
    "Data should be preprocessed and cleaned to get rid of noisy data. \n",
    "Preprocessing includes:\n",
    " - dealing with missing data\n",
    "   - remove whole rows (if they are not a lot)\n",
    "   - infer (e.g., date of birth & age)\n",
    "   - fill with mean, median, or even 0\n",
    " - removing unsued column(s)\n",
    " - convert categorical (non numerical) data into numerical\n",
    " - normalization: standarize data ranges for all features (e.g., between 0 and 1)\n",
    "\n",
    "\n",
    "\n",
    "---\n",
    "\n",
    "\n",
    "\n",
    " Let's start by removing missing data."
   ]
  },
  {
   "cell_type": "code",
   "execution_count": null,
   "metadata": {
    "colab": {},
    "colab_type": "code",
    "id": "mslOEw7wmf_N"
   },
   "outputs": [],
   "source": [
    "# print how many missing value in each column\n",
    "data.isnull().sum()"
   ]
  },
  {
   "cell_type": "code",
   "execution_count": null,
   "metadata": {
    "colab": {},
    "colab_type": "code",
    "id": "ZXvduiy1nckz"
   },
   "outputs": [],
   "source": [
    "# drop rows with missing values\n",
    "data = data._____\n",
    "data.isnull().sum()"
   ]
  },
  {
   "cell_type": "code",
   "execution_count": null,
   "metadata": {
    "colab": {},
    "colab_type": "code",
    "id": "bSEzYUz-nevs"
   },
   "outputs": [],
   "source": [
    "data.info()"
   ]
  },
  {
   "cell_type": "markdown",
   "metadata": {
    "colab_type": "text",
    "id": "rT-M7TYitDT8"
   },
   "source": [
    "#### Remove unused columns\n",
    "\n",
    "Let's remove the `region` column since we don't really care about it"
   ]
  },
  {
   "cell_type": "code",
   "execution_count": null,
   "metadata": {
    "colab": {},
    "colab_type": "code",
    "id": "YdCm-boktOto"
   },
   "outputs": [],
   "source": [
    "# dropping the region feature\n",
    "data._____\n",
    "data.head()"
   ]
  },
  {
   "cell_type": "markdown",
   "metadata": {
    "colab_type": "text",
    "id": "VGcXlEP6ryIZ"
   },
   "source": [
    "#### Convert Categorical columns to numerical\n",
    "\n",
    "*   We need to convert the sex column from male/female to 0/1.\n",
    "*   We need to convert the smoker column from no/yes to 0/1.\n",
    "\n",
    "\n",
    "Let's start with the sex column\n",
    "\n"
   ]
  },
  {
   "cell_type": "code",
   "execution_count": null,
   "metadata": {
    "colab": {},
    "colab_type": "code",
    "id": "cpEbrz7HnfuY"
   },
   "outputs": [],
   "source": [
    "# define dictionary \n",
    "gender = {'male':0, 'female':1}\n",
    "# replace sex column with 0/1\n",
    "data['sex'] = ______\n",
    "# print head to verify\n",
    "data.head()"
   ]
  },
  {
   "cell_type": "markdown",
   "metadata": {
    "colab_type": "text",
    "id": "AuX-fpHesgmi"
   },
   "source": [
    "And now the smokers column"
   ]
  },
  {
   "cell_type": "code",
   "execution_count": null,
   "metadata": {
    "colab": {},
    "colab_type": "code",
    "id": "LfU8gCe7sCDS"
   },
   "outputs": [],
   "source": [
    "# define dictionary \n",
    "smokers = {'no':0, 'yes':1}\n",
    "# replace smokers column with 0/1\n",
    "data['smoker'] = _____\n",
    "# print head to verify\n",
    "data.head()"
   ]
  },
  {
   "cell_type": "markdown",
   "metadata": {
    "colab_type": "text",
    "id": "uwfqKXYftiS-"
   },
   "source": [
    "#### Normalization\n",
    "\n",
    "Let's scale all the columns by dividing by the maximum"
   ]
  },
  {
   "cell_type": "code",
   "execution_count": null,
   "metadata": {
    "colab": {},
    "colab_type": "code",
    "id": "hJrBAhytsq8c"
   },
   "outputs": [],
   "source": [
    "# get the max of each column\n",
    "data_max = _____\n",
    "data_max"
   ]
  },
  {
   "cell_type": "code",
   "execution_count": null,
   "metadata": {
    "colab": {},
    "colab_type": "code",
    "id": "oOxtgIjhu36f"
   },
   "outputs": [],
   "source": [
    "# divide each column by its maximum value\n",
    "data = data.____\n",
    "data.describe()"
   ]
  },
  {
   "cell_type": "markdown",
   "metadata": {
    "colab_type": "text",
    "id": "nwQPUuGy8vmw"
   },
   "source": [
    "## 4. Model Training & Testing\n",
    "\n"
   ]
  },
  {
   "cell_type": "markdown",
   "metadata": {
    "colab_type": "text",
    "id": "hS1p4ObAJ-KB"
   },
   "source": [
    "#### Data split\n",
    "\n",
    "Before training, we need to split data into training (80%) & testing (20%)"
   ]
  },
  {
   "cell_type": "code",
   "execution_count": null,
   "metadata": {
    "colab": {},
    "colab_type": "code",
    "id": "5n3DqBUG892K"
   },
   "outputs": [],
   "source": [
    "# store all columns excpet last one as inputs in X\n",
    "X = data.iloc[:,0:-1].values\n",
    "# store the last column as the output (label) in y  \n",
    "y = data.iloc[:,-1].values  \n",
    "\n",
    "# split dataset in a 80/20 split\n",
    "x_train, x_test, y_train, y_test = ______\n",
    "\n",
    "print(x_train.shape, y_train.shape)\n",
    "print(x_test.shape, y_test.shape)"
   ]
  },
  {
   "cell_type": "markdown",
   "metadata": {
    "colab_type": "text",
    "id": "7dPqqZiT97Eg"
   },
   "source": [
    "#### Linear Regression Modeling\n"
   ]
  },
  {
   "cell_type": "code",
   "execution_count": null,
   "metadata": {
    "colab": {},
    "colab_type": "code",
    "id": "CYUD8wNF9bm3"
   },
   "outputs": [],
   "source": [
    "# define our regression model\n",
    "model = ______\n",
    "\n",
    "# train our model\n",
    "model.______\n",
    "print('Model trained!')"
   ]
  },
  {
   "cell_type": "markdown",
   "metadata": {
    "colab_type": "text",
    "id": "Y1sS3jocKG8b"
   },
   "source": [
    "#### Evaluation"
   ]
  },
  {
   "cell_type": "code",
   "execution_count": null,
   "metadata": {
    "colab": {},
    "colab_type": "code",
    "id": "aZh3xkWFKLbq"
   },
   "outputs": [],
   "source": [
    "print('Model score {}'.format(model.______))"
   ]
  },
  {
   "cell_type": "markdown",
   "metadata": {
    "colab_type": "text",
    "id": "aheCkvxXFb2B"
   },
   "source": [
    "#### BONUS: Features importance (weights)\n"
   ]
  },
  {
   "cell_type": "code",
   "execution_count": null,
   "metadata": {
    "colab": {},
    "colab_type": "code",
    "id": "YIIDhnf-_AfG"
   },
   "outputs": [],
   "source": [
    "columns_names = data.columns[0:-1].values\n",
    "features_importance = model.coef_\n",
    "plt.barh(columns_names, features_importance)\n",
    "plt.title('Features Importance')\n",
    "plt.xlabel('importance')\n",
    "plt.ylabel('feature')\n",
    "plt.show()"
   ]
  }
 ],
 "metadata": {
  "colab": {
   "collapsed_sections": [],
   "name": "Medical Cost prediction_blanks",
   "provenance": [
    {
     "file_id": "1xYURfx8SoYRW8mOk4_0SG5Dwf_7SXIpm",
     "timestamp": 1592385060927
    }
   ],
   "toc_visible": true
  },
  "kernelspec": {
   "display_name": "Python 3",
   "name": "python3"
  }
 },
 "nbformat": 4,
 "nbformat_minor": 0
}
